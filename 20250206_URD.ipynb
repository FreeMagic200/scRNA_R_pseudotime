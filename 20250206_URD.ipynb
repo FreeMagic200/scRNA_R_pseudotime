{
  "nbformat": 4,
  "nbformat_minor": 0,
  "metadata": {
    "colab": {
      "provenance": [],
      "authorship_tag": "ABX9TyMfhCHCKU/QiRwLjJ1TWY/2",
      "include_colab_link": true
    },
    "kernelspec": {
      "name": "python3",
      "display_name": "Python 3"
    },
    "language_info": {
      "name": "python"
    }
  },
  "cells": [
    {
      "cell_type": "markdown",
      "metadata": {
        "id": "view-in-github",
        "colab_type": "text"
      },
      "source": [
        "<a href=\"https://colab.research.google.com/github/FreeMagic200/scRNA_R_pseudotime/blob/main/URD.ipynb\" target=\"_parent\"><img src=\"https://colab.research.google.com/assets/colab-badge.svg\" alt=\"Open In Colab\"/></a>"
      ]
    },
    {
      "cell_type": "markdown",
      "source": [
        "# URD\n",
        "\n",
        "```\n",
        "mamba create -n urd\n",
        "mamba activate urd\n",
        "\n",
        "mamba install r-biocmanager r-udunits2 r-glue r-gtable r-lifecycle r-mass r-mgcv r-scales r-tibble r-vctrs r-withr \\\n",
        "    bioconductor-annotationdbi bioconductor-destiny bioconductor-summarizedexperiment r-ggplot2 r-ggthemes \\\n",
        "    r-bslib r-shiny r-miniui r-usethis r-fs r-pkgdown r-pkgload r-profvis r-roxygen2 r-rversions r-urlchecker \\\n",
        "    r-ggraph r-igraph \\\n",
        "    -c conda-forge -c bioconda\n",
        "\n",
        "\n",
        "# in China\n",
        "Rscript -e 'options(repos=structure(c(CRAN=\"https://mirrors.tuna.tsinghua.edu.cn/CRAN/\"))); source(\"https://raw.githubusercontent.com/farrellja/URD/master/URD-Install.R\")'\n",
        "\n",
        "\n",
        "# Rscript -e 'source(\"https://raw.githubusercontent.com/farrellja/URD/master/URD-Install.R\")'\n",
        "\n",
        "\n",
        "```"
      ],
      "metadata": {
        "id": "HMBh9HD83oEv"
      }
    },
    {
      "cell_type": "code",
      "execution_count": null,
      "metadata": {
        "id": "PvRE8Tsp3nIc"
      },
      "outputs": [],
      "source": []
    }
  ]
}
