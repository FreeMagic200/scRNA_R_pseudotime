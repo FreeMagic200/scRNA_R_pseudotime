{
  "nbformat": 4,
  "nbformat_minor": 0,
  "metadata": {
    "colab": {
      "provenance": [],
      "authorship_tag": "ABX9TyMp/IjKf1Lxn5jXDKX9Cvvo",
      "include_colab_link": true
    },
    "kernelspec": {
      "name": "python3",
      "display_name": "Python 3"
    },
    "language_info": {
      "name": "python"
    }
  },
  "cells": [
    {
      "cell_type": "markdown",
      "metadata": {
        "id": "view-in-github",
        "colab_type": "text"
      },
      "source": [
        "<a href=\"https://colab.research.google.com/github/FreeMagic200/scRNA_R_pseudotime/blob/main/20250206_monocle3.ipynb\" target=\"_parent\"><img src=\"https://colab.research.google.com/assets/colab-badge.svg\" alt=\"Open In Colab\"/></a>"
      ]
    },
    {
      "cell_type": "markdown",
      "source": [
        "# monocle3\n",
        "\n",
        "```\n",
        "mamba create -n monocle3\n",
        "mamba activate monocle3\n",
        "mamba install -c conda-forge -c bioconda \\\n",
        "  bioconductor-biocgenerics \\\n",
        "  bioconductor-delayedarray \\\n",
        "  bioconductor-delayedmatrixstats \\\n",
        "  bioconductor-limma \\\n",
        "  bioconductor-s4vectors \\\n",
        "  bioconductor-singlecellexperiment \\\n",
        "  bioconductor-summarizedexperiment \\\n",
        "  bioconductor-batchelor \\\n",
        "  bioconductor-hdf5array \\\n",
        "  r-base \\\n",
        "  r-biocmanager \\\n",
        "  r-seurat=5 \\\n",
        "  r-presto \\\n",
        "  r-seurat-data \\\n",
        "  r-dplyr \\\n",
        "  r-patchwork \\\n",
        "  r-remotes \\\n",
        "  r-devtools \\\n",
        "  r-irkernel \\\n",
        "  jupyterlab \\\n",
        "  python=3.9 \\\n",
        "  pip \\\n",
        "  zlib \\\n",
        "  liblzma \\\n",
        "  backports.lzma \\\n",
        "  r-r.utils \\\n",
        "  r-qs \\\n",
        "  r-cairo \\\n",
        "  libpng \\\n",
        "  gdal \\\n",
        "  proj \\\n",
        "  r-sf \\\n",
        "  r-spdep \\\n",
        "  r-ggrastr \\\n",
        "  r-lme4 \\\n",
        "  r-terra\n",
        "\n",
        "# Install monocle3 from GitHub\n",
        "devtools::install_github('cole-trapnell-lab/monocle3')\n",
        "\n",
        "```"
      ],
      "metadata": {
        "id": "RKhg7tTtPcYi"
      }
    },
    {
      "cell_type": "code",
      "execution_count": null,
      "metadata": {
        "id": "8r8_DvfsPb0q"
      },
      "outputs": [],
      "source": []
    }
  ]
}